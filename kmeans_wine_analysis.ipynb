{
  "nbformat": 4,
  "nbformat_minor": 0,
  "metadata": {
    "colab": {
      "provenance": [],
      "gpuType": "T4",
      "authorship_tag": "ABX9TyNXUnn7u0Tak7J/rJDunubY",
      "include_colab_link": true
    },
    "kernelspec": {
      "name": "python3",
      "display_name": "Python 3"
    },
    "language_info": {
      "name": "python"
    },
    "accelerator": "GPU"
  },
  "cells": [
    {
      "cell_type": "markdown",
      "metadata": {
        "id": "view-in-github",
        "colab_type": "text"
      },
      "source": [
        "<a href=\"https://colab.research.google.com/github/dede0702/kmeans_wine_analysis./blob/main/kmeans_wine_analysis.ipynb\" target=\"_parent\"><img src=\"https://colab.research.google.com/assets/colab-badge.svg\" alt=\"Open In Colab\"/></a>"
      ]
    },
    {
      "cell_type": "markdown",
      "source": [
        "#Introdução\n",
        "No projeto proposto, o objetivo é aplicar o algoritmo de agrupamento K-means para segmentar vinhos com características similares, utilizando um conjunto de dados que contém diversas propriedades químicas dos vinhos. A análise visa criar clusters de vinhos que compartilhem atributos comuns, facilitando a identificação de padrões entre eles, como teor alcoólico, acidez e outras características relevantes. O K-means é um algoritmo amplamente utilizado para problemas de agrupamento, onde o número de grupos é pré-definido e o algoritmo busca otimizar a posição dos centróides para minimizar a distância dentro de cada cluster. Além disso, métodos como Elbow e Silhouette Score serão usados para identificar o número ideal de clusters, garantindo que o agrupamento seja o mais representativo possível."
      ],
      "metadata": {
        "id": "VM18GeDqL3KQ"
      }
    },
    {
      "cell_type": "code",
      "source": [
        "# Importando as bibliotecas necessárias\n",
        "import pandas as pd\n",
        "from sklearn.cluster import KMeans\n",
        "from sklearn.preprocessing import StandardScaler\n",
        "from sklearn.metrics import silhouette_score\n",
        "import matplotlib.pyplot as plt"
      ],
      "metadata": {
        "id": "-iW7zeYwMFlX"
      },
      "execution_count": null,
      "outputs": []
    },
    {
      "cell_type": "code",
      "source": [
        "# Carregar o dataset\n",
        "# Aqui estamos carregando os dados de vinhos diretamente do arquivo CSV\n",
        "df = pd.read_csv('/content/wines.csv')"
      ],
      "metadata": {
        "id": "LTJ4SyEyMFio"
      },
      "execution_count": null,
      "outputs": []
    },
    {
      "cell_type": "code",
      "source": [
        "df.head()"
      ],
      "metadata": {
        "colab": {
          "base_uri": "https://localhost:8080/",
          "height": 226
        },
        "id": "2khaMIxiYgQq",
        "outputId": "ae4dc83f-88a8-432b-c419-1392939c663d"
      },
      "execution_count": null,
      "outputs": [
        {
          "output_type": "execute_result",
          "data": {
            "text/plain": [
              "   Class  Alcohol  Malic_acid   Ash   Alcalinity_of_ash  Magnesium  \\\n",
              "0      1    14.23        1.71  2.43                15.6        127   \n",
              "1      1    13.20        1.78  2.14                11.2        100   \n",
              "2      1    13.16        2.36  2.67                18.6        101   \n",
              "3      1    14.37        1.95  2.50                16.8        113   \n",
              "4      1    13.24        2.59  2.87                21.0        118   \n",
              "\n",
              "   Total_phenols  Flavanoids  Nonflavanoid_phenols  Proanthocyanins  \\\n",
              "0           2.80        3.06                  0.28             2.29   \n",
              "1           2.65        2.76                  0.26             1.28   \n",
              "2           2.80        3.24                  0.30             2.81   \n",
              "3           3.85        3.49                  0.24             2.18   \n",
              "4           2.80        2.69                  0.39             1.82   \n",
              "\n",
              "   Color_intensity   Hue  OD280/OD315_of_diluted_wines  Proline  \n",
              "0             5.64  1.04                          3.92     1065  \n",
              "1             4.38  1.05                          3.40     1050  \n",
              "2             5.68  1.03                          3.17     1185  \n",
              "3             7.80  0.86                          3.45     1480  \n",
              "4             4.32  1.04                          2.93      735  "
            ],
            "text/html": [
              "\n",
              "  <div id=\"df-b950b200-1993-435f-8c95-eb336113af3b\" class=\"colab-df-container\">\n",
              "    <div>\n",
              "<style scoped>\n",
              "    .dataframe tbody tr th:only-of-type {\n",
              "        vertical-align: middle;\n",
              "    }\n",
              "\n",
              "    .dataframe tbody tr th {\n",
              "        vertical-align: top;\n",
              "    }\n",
              "\n",
              "    .dataframe thead th {\n",
              "        text-align: right;\n",
              "    }\n",
              "</style>\n",
              "<table border=\"1\" class=\"dataframe\">\n",
              "  <thead>\n",
              "    <tr style=\"text-align: right;\">\n",
              "      <th></th>\n",
              "      <th>Class</th>\n",
              "      <th>Alcohol</th>\n",
              "      <th>Malic_acid</th>\n",
              "      <th>Ash</th>\n",
              "      <th>Alcalinity_of_ash</th>\n",
              "      <th>Magnesium</th>\n",
              "      <th>Total_phenols</th>\n",
              "      <th>Flavanoids</th>\n",
              "      <th>Nonflavanoid_phenols</th>\n",
              "      <th>Proanthocyanins</th>\n",
              "      <th>Color_intensity</th>\n",
              "      <th>Hue</th>\n",
              "      <th>OD280/OD315_of_diluted_wines</th>\n",
              "      <th>Proline</th>\n",
              "    </tr>\n",
              "  </thead>\n",
              "  <tbody>\n",
              "    <tr>\n",
              "      <th>0</th>\n",
              "      <td>1</td>\n",
              "      <td>14.23</td>\n",
              "      <td>1.71</td>\n",
              "      <td>2.43</td>\n",
              "      <td>15.6</td>\n",
              "      <td>127</td>\n",
              "      <td>2.80</td>\n",
              "      <td>3.06</td>\n",
              "      <td>0.28</td>\n",
              "      <td>2.29</td>\n",
              "      <td>5.64</td>\n",
              "      <td>1.04</td>\n",
              "      <td>3.92</td>\n",
              "      <td>1065</td>\n",
              "    </tr>\n",
              "    <tr>\n",
              "      <th>1</th>\n",
              "      <td>1</td>\n",
              "      <td>13.20</td>\n",
              "      <td>1.78</td>\n",
              "      <td>2.14</td>\n",
              "      <td>11.2</td>\n",
              "      <td>100</td>\n",
              "      <td>2.65</td>\n",
              "      <td>2.76</td>\n",
              "      <td>0.26</td>\n",
              "      <td>1.28</td>\n",
              "      <td>4.38</td>\n",
              "      <td>1.05</td>\n",
              "      <td>3.40</td>\n",
              "      <td>1050</td>\n",
              "    </tr>\n",
              "    <tr>\n",
              "      <th>2</th>\n",
              "      <td>1</td>\n",
              "      <td>13.16</td>\n",
              "      <td>2.36</td>\n",
              "      <td>2.67</td>\n",
              "      <td>18.6</td>\n",
              "      <td>101</td>\n",
              "      <td>2.80</td>\n",
              "      <td>3.24</td>\n",
              "      <td>0.30</td>\n",
              "      <td>2.81</td>\n",
              "      <td>5.68</td>\n",
              "      <td>1.03</td>\n",
              "      <td>3.17</td>\n",
              "      <td>1185</td>\n",
              "    </tr>\n",
              "    <tr>\n",
              "      <th>3</th>\n",
              "      <td>1</td>\n",
              "      <td>14.37</td>\n",
              "      <td>1.95</td>\n",
              "      <td>2.50</td>\n",
              "      <td>16.8</td>\n",
              "      <td>113</td>\n",
              "      <td>3.85</td>\n",
              "      <td>3.49</td>\n",
              "      <td>0.24</td>\n",
              "      <td>2.18</td>\n",
              "      <td>7.80</td>\n",
              "      <td>0.86</td>\n",
              "      <td>3.45</td>\n",
              "      <td>1480</td>\n",
              "    </tr>\n",
              "    <tr>\n",
              "      <th>4</th>\n",
              "      <td>1</td>\n",
              "      <td>13.24</td>\n",
              "      <td>2.59</td>\n",
              "      <td>2.87</td>\n",
              "      <td>21.0</td>\n",
              "      <td>118</td>\n",
              "      <td>2.80</td>\n",
              "      <td>2.69</td>\n",
              "      <td>0.39</td>\n",
              "      <td>1.82</td>\n",
              "      <td>4.32</td>\n",
              "      <td>1.04</td>\n",
              "      <td>2.93</td>\n",
              "      <td>735</td>\n",
              "    </tr>\n",
              "  </tbody>\n",
              "</table>\n",
              "</div>\n",
              "    <div class=\"colab-df-buttons\">\n",
              "\n",
              "  <div class=\"colab-df-container\">\n",
              "    <button class=\"colab-df-convert\" onclick=\"convertToInteractive('df-b950b200-1993-435f-8c95-eb336113af3b')\"\n",
              "            title=\"Convert this dataframe to an interactive table.\"\n",
              "            style=\"display:none;\">\n",
              "\n",
              "  <svg xmlns=\"http://www.w3.org/2000/svg\" height=\"24px\" viewBox=\"0 -960 960 960\">\n",
              "    <path d=\"M120-120v-720h720v720H120Zm60-500h600v-160H180v160Zm220 220h160v-160H400v160Zm0 220h160v-160H400v160ZM180-400h160v-160H180v160Zm440 0h160v-160H620v160ZM180-180h160v-160H180v160Zm440 0h160v-160H620v160Z\"/>\n",
              "  </svg>\n",
              "    </button>\n",
              "\n",
              "  <style>\n",
              "    .colab-df-container {\n",
              "      display:flex;\n",
              "      gap: 12px;\n",
              "    }\n",
              "\n",
              "    .colab-df-convert {\n",
              "      background-color: #E8F0FE;\n",
              "      border: none;\n",
              "      border-radius: 50%;\n",
              "      cursor: pointer;\n",
              "      display: none;\n",
              "      fill: #1967D2;\n",
              "      height: 32px;\n",
              "      padding: 0 0 0 0;\n",
              "      width: 32px;\n",
              "    }\n",
              "\n",
              "    .colab-df-convert:hover {\n",
              "      background-color: #E2EBFA;\n",
              "      box-shadow: 0px 1px 2px rgba(60, 64, 67, 0.3), 0px 1px 3px 1px rgba(60, 64, 67, 0.15);\n",
              "      fill: #174EA6;\n",
              "    }\n",
              "\n",
              "    .colab-df-buttons div {\n",
              "      margin-bottom: 4px;\n",
              "    }\n",
              "\n",
              "    [theme=dark] .colab-df-convert {\n",
              "      background-color: #3B4455;\n",
              "      fill: #D2E3FC;\n",
              "    }\n",
              "\n",
              "    [theme=dark] .colab-df-convert:hover {\n",
              "      background-color: #434B5C;\n",
              "      box-shadow: 0px 1px 3px 1px rgba(0, 0, 0, 0.15);\n",
              "      filter: drop-shadow(0px 1px 2px rgba(0, 0, 0, 0.3));\n",
              "      fill: #FFFFFF;\n",
              "    }\n",
              "  </style>\n",
              "\n",
              "    <script>\n",
              "      const buttonEl =\n",
              "        document.querySelector('#df-b950b200-1993-435f-8c95-eb336113af3b button.colab-df-convert');\n",
              "      buttonEl.style.display =\n",
              "        google.colab.kernel.accessAllowed ? 'block' : 'none';\n",
              "\n",
              "      async function convertToInteractive(key) {\n",
              "        const element = document.querySelector('#df-b950b200-1993-435f-8c95-eb336113af3b');\n",
              "        const dataTable =\n",
              "          await google.colab.kernel.invokeFunction('convertToInteractive',\n",
              "                                                    [key], {});\n",
              "        if (!dataTable) return;\n",
              "\n",
              "        const docLinkHtml = 'Like what you see? Visit the ' +\n",
              "          '<a target=\"_blank\" href=https://colab.research.google.com/notebooks/data_table.ipynb>data table notebook</a>'\n",
              "          + ' to learn more about interactive tables.';\n",
              "        element.innerHTML = '';\n",
              "        dataTable['output_type'] = 'display_data';\n",
              "        await google.colab.output.renderOutput(dataTable, element);\n",
              "        const docLink = document.createElement('div');\n",
              "        docLink.innerHTML = docLinkHtml;\n",
              "        element.appendChild(docLink);\n",
              "      }\n",
              "    </script>\n",
              "  </div>\n",
              "\n",
              "\n",
              "<div id=\"df-4a88873f-8a64-42b8-b80d-7d7126da6e1f\">\n",
              "  <button class=\"colab-df-quickchart\" onclick=\"quickchart('df-4a88873f-8a64-42b8-b80d-7d7126da6e1f')\"\n",
              "            title=\"Suggest charts\"\n",
              "            style=\"display:none;\">\n",
              "\n",
              "<svg xmlns=\"http://www.w3.org/2000/svg\" height=\"24px\"viewBox=\"0 0 24 24\"\n",
              "     width=\"24px\">\n",
              "    <g>\n",
              "        <path d=\"M19 3H5c-1.1 0-2 .9-2 2v14c0 1.1.9 2 2 2h14c1.1 0 2-.9 2-2V5c0-1.1-.9-2-2-2zM9 17H7v-7h2v7zm4 0h-2V7h2v10zm4 0h-2v-4h2v4z\"/>\n",
              "    </g>\n",
              "</svg>\n",
              "  </button>\n",
              "\n",
              "<style>\n",
              "  .colab-df-quickchart {\n",
              "      --bg-color: #E8F0FE;\n",
              "      --fill-color: #1967D2;\n",
              "      --hover-bg-color: #E2EBFA;\n",
              "      --hover-fill-color: #174EA6;\n",
              "      --disabled-fill-color: #AAA;\n",
              "      --disabled-bg-color: #DDD;\n",
              "  }\n",
              "\n",
              "  [theme=dark] .colab-df-quickchart {\n",
              "      --bg-color: #3B4455;\n",
              "      --fill-color: #D2E3FC;\n",
              "      --hover-bg-color: #434B5C;\n",
              "      --hover-fill-color: #FFFFFF;\n",
              "      --disabled-bg-color: #3B4455;\n",
              "      --disabled-fill-color: #666;\n",
              "  }\n",
              "\n",
              "  .colab-df-quickchart {\n",
              "    background-color: var(--bg-color);\n",
              "    border: none;\n",
              "    border-radius: 50%;\n",
              "    cursor: pointer;\n",
              "    display: none;\n",
              "    fill: var(--fill-color);\n",
              "    height: 32px;\n",
              "    padding: 0;\n",
              "    width: 32px;\n",
              "  }\n",
              "\n",
              "  .colab-df-quickchart:hover {\n",
              "    background-color: var(--hover-bg-color);\n",
              "    box-shadow: 0 1px 2px rgba(60, 64, 67, 0.3), 0 1px 3px 1px rgba(60, 64, 67, 0.15);\n",
              "    fill: var(--button-hover-fill-color);\n",
              "  }\n",
              "\n",
              "  .colab-df-quickchart-complete:disabled,\n",
              "  .colab-df-quickchart-complete:disabled:hover {\n",
              "    background-color: var(--disabled-bg-color);\n",
              "    fill: var(--disabled-fill-color);\n",
              "    box-shadow: none;\n",
              "  }\n",
              "\n",
              "  .colab-df-spinner {\n",
              "    border: 2px solid var(--fill-color);\n",
              "    border-color: transparent;\n",
              "    border-bottom-color: var(--fill-color);\n",
              "    animation:\n",
              "      spin 1s steps(1) infinite;\n",
              "  }\n",
              "\n",
              "  @keyframes spin {\n",
              "    0% {\n",
              "      border-color: transparent;\n",
              "      border-bottom-color: var(--fill-color);\n",
              "      border-left-color: var(--fill-color);\n",
              "    }\n",
              "    20% {\n",
              "      border-color: transparent;\n",
              "      border-left-color: var(--fill-color);\n",
              "      border-top-color: var(--fill-color);\n",
              "    }\n",
              "    30% {\n",
              "      border-color: transparent;\n",
              "      border-left-color: var(--fill-color);\n",
              "      border-top-color: var(--fill-color);\n",
              "      border-right-color: var(--fill-color);\n",
              "    }\n",
              "    40% {\n",
              "      border-color: transparent;\n",
              "      border-right-color: var(--fill-color);\n",
              "      border-top-color: var(--fill-color);\n",
              "    }\n",
              "    60% {\n",
              "      border-color: transparent;\n",
              "      border-right-color: var(--fill-color);\n",
              "    }\n",
              "    80% {\n",
              "      border-color: transparent;\n",
              "      border-right-color: var(--fill-color);\n",
              "      border-bottom-color: var(--fill-color);\n",
              "    }\n",
              "    90% {\n",
              "      border-color: transparent;\n",
              "      border-bottom-color: var(--fill-color);\n",
              "    }\n",
              "  }\n",
              "</style>\n",
              "\n",
              "  <script>\n",
              "    async function quickchart(key) {\n",
              "      const quickchartButtonEl =\n",
              "        document.querySelector('#' + key + ' button');\n",
              "      quickchartButtonEl.disabled = true;  // To prevent multiple clicks.\n",
              "      quickchartButtonEl.classList.add('colab-df-spinner');\n",
              "      try {\n",
              "        const charts = await google.colab.kernel.invokeFunction(\n",
              "            'suggestCharts', [key], {});\n",
              "      } catch (error) {\n",
              "        console.error('Error during call to suggestCharts:', error);\n",
              "      }\n",
              "      quickchartButtonEl.classList.remove('colab-df-spinner');\n",
              "      quickchartButtonEl.classList.add('colab-df-quickchart-complete');\n",
              "    }\n",
              "    (() => {\n",
              "      let quickchartButtonEl =\n",
              "        document.querySelector('#df-4a88873f-8a64-42b8-b80d-7d7126da6e1f button');\n",
              "      quickchartButtonEl.style.display =\n",
              "        google.colab.kernel.accessAllowed ? 'block' : 'none';\n",
              "    })();\n",
              "  </script>\n",
              "</div>\n",
              "\n",
              "    </div>\n",
              "  </div>\n"
            ],
            "application/vnd.google.colaboratory.intrinsic+json": {
              "type": "dataframe",
              "variable_name": "df",
              "summary": "{\n  \"name\": \"df\",\n  \"rows\": 178,\n  \"fields\": [\n    {\n      \"column\": \"Class\",\n      \"properties\": {\n        \"dtype\": \"number\",\n        \"std\": 0,\n        \"min\": 1,\n        \"max\": 3,\n        \"num_unique_values\": 3,\n        \"samples\": [\n          1,\n          2,\n          3\n        ],\n        \"semantic_type\": \"\",\n        \"description\": \"\"\n      }\n    },\n    {\n      \"column\": \"Alcohol\",\n      \"properties\": {\n        \"dtype\": \"number\",\n        \"std\": 0.8118265380058577,\n        \"min\": 11.03,\n        \"max\": 14.83,\n        \"num_unique_values\": 126,\n        \"samples\": [\n          11.62,\n          13.64,\n          13.69\n        ],\n        \"semantic_type\": \"\",\n        \"description\": \"\"\n      }\n    },\n    {\n      \"column\": \"Malic_acid\",\n      \"properties\": {\n        \"dtype\": \"number\",\n        \"std\": 1.1171460976144627,\n        \"min\": 0.74,\n        \"max\": 5.8,\n        \"num_unique_values\": 133,\n        \"samples\": [\n          1.21,\n          2.83,\n          1.8\n        ],\n        \"semantic_type\": \"\",\n        \"description\": \"\"\n      }\n    },\n    {\n      \"column\": \" Ash\",\n      \"properties\": {\n        \"dtype\": \"number\",\n        \"std\": 0.2743440090608148,\n        \"min\": 1.36,\n        \"max\": 3.23,\n        \"num_unique_values\": 79,\n        \"samples\": [\n          2.31,\n          2.43,\n          2.52\n        ],\n        \"semantic_type\": \"\",\n        \"description\": \"\"\n      }\n    },\n    {\n      \"column\": \" Alcalinity_of_ash\",\n      \"properties\": {\n        \"dtype\": \"number\",\n        \"std\": 3.3395637671735052,\n        \"min\": 10.6,\n        \"max\": 30.0,\n        \"num_unique_values\": 63,\n        \"samples\": [\n          25.5,\n          28.5,\n          15.6\n        ],\n        \"semantic_type\": \"\",\n        \"description\": \"\"\n      }\n    },\n    {\n      \"column\": \"Magnesium\",\n      \"properties\": {\n        \"dtype\": \"number\",\n        \"std\": 14,\n        \"min\": 70,\n        \"max\": 162,\n        \"num_unique_values\": 53,\n        \"samples\": [\n          126,\n          85,\n          162\n        ],\n        \"semantic_type\": \"\",\n        \"description\": \"\"\n      }\n    },\n    {\n      \"column\": \"Total_phenols\",\n      \"properties\": {\n        \"dtype\": \"number\",\n        \"std\": 0.6258510488339891,\n        \"min\": 0.98,\n        \"max\": 3.88,\n        \"num_unique_values\": 97,\n        \"samples\": [\n          1.68,\n          2.11,\n          1.35\n        ],\n        \"semantic_type\": \"\",\n        \"description\": \"\"\n      }\n    },\n    {\n      \"column\": \"Flavanoids\",\n      \"properties\": {\n        \"dtype\": \"number\",\n        \"std\": 0.9988586850169465,\n        \"min\": 0.34,\n        \"max\": 5.08,\n        \"num_unique_values\": 132,\n        \"samples\": [\n          3.18,\n          2.5,\n          3.17\n        ],\n        \"semantic_type\": \"\",\n        \"description\": \"\"\n      }\n    },\n    {\n      \"column\": \"Nonflavanoid_phenols\",\n      \"properties\": {\n        \"dtype\": \"number\",\n        \"std\": 0.12445334029667939,\n        \"min\": 0.13,\n        \"max\": 0.66,\n        \"num_unique_values\": 39,\n        \"samples\": [\n          0.58,\n          0.41,\n          0.39\n        ],\n        \"semantic_type\": \"\",\n        \"description\": \"\"\n      }\n    },\n    {\n      \"column\": \"Proanthocyanins\",\n      \"properties\": {\n        \"dtype\": \"number\",\n        \"std\": 0.5723588626747611,\n        \"min\": 0.41,\n        \"max\": 3.58,\n        \"num_unique_values\": 101,\n        \"samples\": [\n          0.75,\n          1.77,\n          1.42\n        ],\n        \"semantic_type\": \"\",\n        \"description\": \"\"\n      }\n    },\n    {\n      \"column\": \"Color_intensity\",\n      \"properties\": {\n        \"dtype\": \"number\",\n        \"std\": 2.318285871822413,\n        \"min\": 1.28,\n        \"max\": 13.0,\n        \"num_unique_values\": 132,\n        \"samples\": [\n          2.95,\n          3.3,\n          5.1\n        ],\n        \"semantic_type\": \"\",\n        \"description\": \"\"\n      }\n    },\n    {\n      \"column\": \"Hue\",\n      \"properties\": {\n        \"dtype\": \"number\",\n        \"std\": 0.22857156582982338,\n        \"min\": 0.48,\n        \"max\": 1.71,\n        \"num_unique_values\": 78,\n        \"samples\": [\n          1.22,\n          1.04,\n          1.45\n        ],\n        \"semantic_type\": \"\",\n        \"description\": \"\"\n      }\n    },\n    {\n      \"column\": \"OD280/OD315_of_diluted_wines\",\n      \"properties\": {\n        \"dtype\": \"number\",\n        \"std\": 0.7099904287650505,\n        \"min\": 1.27,\n        \"max\": 4.0,\n        \"num_unique_values\": 122,\n        \"samples\": [\n          4.0,\n          1.82,\n          1.59\n        ],\n        \"semantic_type\": \"\",\n        \"description\": \"\"\n      }\n    },\n    {\n      \"column\": \"Proline\",\n      \"properties\": {\n        \"dtype\": \"number\",\n        \"std\": 314,\n        \"min\": 278,\n        \"max\": 1680,\n        \"num_unique_values\": 121,\n        \"samples\": [\n          1375,\n          1270,\n          735\n        ],\n        \"semantic_type\": \"\",\n        \"description\": \"\"\n      }\n    }\n  ]\n}"
            }
          },
          "metadata": {},
          "execution_count": 17
        }
      ]
    },
    {
      "cell_type": "code",
      "source": [
        "df, df.shape"
      ],
      "metadata": {
        "colab": {
          "base_uri": "https://localhost:8080/"
        },
        "id": "HeF_tzzdMFfo",
        "outputId": "145a54b1-9ce5-4f88-9c04-7b92cbaf587a"
      },
      "execution_count": null,
      "outputs": [
        {
          "output_type": "execute_result",
          "data": {
            "text/plain": [
              "(     Class  Alcohol  Malic_acid   Ash   Alcalinity_of_ash  Magnesium  \\\n",
              " 0        1    14.23        1.71  2.43                15.6        127   \n",
              " 1        1    13.20        1.78  2.14                11.2        100   \n",
              " 2        1    13.16        2.36  2.67                18.6        101   \n",
              " 3        1    14.37        1.95  2.50                16.8        113   \n",
              " 4        1    13.24        2.59  2.87                21.0        118   \n",
              " ..     ...      ...         ...   ...                 ...        ...   \n",
              " 173      3    13.71        5.65  2.45                20.5         95   \n",
              " 174      3    13.40        3.91  2.48                23.0        102   \n",
              " 175      3    13.27        4.28  2.26                20.0        120   \n",
              " 176      3    13.17        2.59  2.37                20.0        120   \n",
              " 177      3    14.13        4.10  2.74                24.5         96   \n",
              " \n",
              "      Total_phenols  Flavanoids  Nonflavanoid_phenols  Proanthocyanins  \\\n",
              " 0             2.80        3.06                  0.28             2.29   \n",
              " 1             2.65        2.76                  0.26             1.28   \n",
              " 2             2.80        3.24                  0.30             2.81   \n",
              " 3             3.85        3.49                  0.24             2.18   \n",
              " 4             2.80        2.69                  0.39             1.82   \n",
              " ..             ...         ...                   ...              ...   \n",
              " 173           1.68        0.61                  0.52             1.06   \n",
              " 174           1.80        0.75                  0.43             1.41   \n",
              " 175           1.59        0.69                  0.43             1.35   \n",
              " 176           1.65        0.68                  0.53             1.46   \n",
              " 177           2.05        0.76                  0.56             1.35   \n",
              " \n",
              "      Color_intensity   Hue  OD280/OD315_of_diluted_wines  Proline  \n",
              " 0               5.64  1.04                          3.92     1065  \n",
              " 1               4.38  1.05                          3.40     1050  \n",
              " 2               5.68  1.03                          3.17     1185  \n",
              " 3               7.80  0.86                          3.45     1480  \n",
              " 4               4.32  1.04                          2.93      735  \n",
              " ..               ...   ...                           ...      ...  \n",
              " 173             7.70  0.64                          1.74      740  \n",
              " 174             7.30  0.70                          1.56      750  \n",
              " 175            10.20  0.59                          1.56      835  \n",
              " 176             9.30  0.60                          1.62      840  \n",
              " 177             9.20  0.61                          1.60      560  \n",
              " \n",
              " [178 rows x 14 columns],\n",
              " (178, 14))"
            ]
          },
          "metadata": {},
          "execution_count": 18
        }
      ]
    },
    {
      "cell_type": "code",
      "source": [
        "# Selecionar as features relevantes\n",
        "# Definimos as variáveis que serão usadas para o agrupamento.\n",
        "# Escolhemos as que são numéricas e relacionadas às propriedades químicas dos vinhos\n",
        "# Verifique se os nomes das colunas estão corretos,\n",
        "# incluindo maiúsculas e minúsculas, espaços em branco, etc.\n",
        "# use df.columns para ver os nomes das colunas disponíveis\n",
        "print(df.columns) # Imprime os nomes das colunas para verificação"
      ],
      "metadata": {
        "colab": {
          "base_uri": "https://localhost:8080/"
        },
        "id": "uJ6_rBXdcvNm",
        "outputId": "cd3639bc-83e3-436d-a767-797dfba8bdc6"
      },
      "execution_count": null,
      "outputs": [
        {
          "output_type": "stream",
          "name": "stdout",
          "text": [
            "Index(['Class', 'Alcohol', 'Malic_acid', ' Ash', ' Alcalinity_of_ash',\n",
            "       'Magnesium', 'Total_phenols', 'Flavanoids', 'Nonflavanoid_phenols',\n",
            "       'Proanthocyanins', 'Color_intensity', 'Hue',\n",
            "       'OD280/OD315_of_diluted_wines', 'Proline'],\n",
            "      dtype='object')\n"
          ]
        }
      ]
    },
    {
      "cell_type": "code",
      "source": [
        "# Corrigindo os nomes das colunas no features para corresponder ao DataFrame\n",
        "features = ['Alcohol', 'Malic_acid', ' Ash', ' Alcalinity_of_ash', 'Magnesium',\n",
        "            'Total_phenols', 'Flavanoids', 'Nonflavanoid_phenols', 'Proanthocyanins']"
      ],
      "metadata": {
        "id": "BGO7f8I9cvHd"
      },
      "execution_count": null,
      "outputs": []
    },
    {
      "cell_type": "code",
      "source": [
        "# Corrigido: nomes das colunas ajustados para corresponder ao DataFrame\n",
        "X = df[features]"
      ],
      "metadata": {
        "id": "c_IbgO26cvBf"
      },
      "execution_count": null,
      "outputs": []
    },
    {
      "cell_type": "code",
      "source": [
        "# Verificar se existem valores nulos\n",
        "# Aqui, verificamos se há dados faltantes (nulos) no dataset\n",
        "print(X.isnull().sum())"
      ],
      "metadata": {
        "colab": {
          "base_uri": "https://localhost:8080/"
        },
        "id": "VHEVPOcPMFZ3",
        "outputId": "7d4ed4c2-d2a0-408d-f297-a91e4c6dabb3"
      },
      "execution_count": null,
      "outputs": [
        {
          "output_type": "stream",
          "name": "stdout",
          "text": [
            "Alcohol                 0\n",
            "Malic_acid              0\n",
            " Ash                    0\n",
            " Alcalinity_of_ash      0\n",
            "Magnesium               0\n",
            "Total_phenols           0\n",
            "Flavanoids              0\n",
            "Nonflavanoid_phenols    0\n",
            "Proanthocyanins         0\n",
            "dtype: int64\n"
          ]
        }
      ]
    },
    {
      "cell_type": "code",
      "source": [
        "# Preencher valores nulos com a média da coluna (se houver)\n",
        "# Se houver valores nulos, preenchê-los com a média da coluna correspondente\n",
        "X.fillna(X.mean(), inplace=True)"
      ],
      "metadata": {
        "colab": {
          "base_uri": "https://localhost:8080/"
        },
        "id": "WXNpbrR1MFW2",
        "outputId": "dfe564ed-575f-4fc6-8c48-99a5c49cd479"
      },
      "execution_count": null,
      "outputs": [
        {
          "output_type": "stream",
          "name": "stderr",
          "text": [
            "<ipython-input-28-57eb9bc69339>:3: SettingWithCopyWarning: \n",
            "A value is trying to be set on a copy of a slice from a DataFrame\n",
            "\n",
            "See the caveats in the documentation: https://pandas.pydata.org/pandas-docs/stable/user_guide/indexing.html#returning-a-view-versus-a-copy\n",
            "  X.fillna(X.mean(), inplace=True)\n"
          ]
        }
      ]
    },
    {
      "cell_type": "code",
      "source": [
        "# Padronizar os dados\n",
        "# Como o algoritmo K-means é sensível à escala das variáveis, utilizamos o StandardScaler para padronizar os dados\n",
        "scaler = StandardScaler()\n",
        "X_scaled = scaler.fit_transform(X)"
      ],
      "metadata": {
        "id": "sW_657KAMFT_"
      },
      "execution_count": null,
      "outputs": []
    },
    {
      "cell_type": "code",
      "source": [
        "# Encontrar o número ideal de clusters com o método Elbow\n",
        "# Aqui utilizamos o método Elbow, que nos ajuda a visualizar o ponto onde o aumento do número de clusters não melhora significativamente o agrupamento\n",
        "inertia = []\n",
        "K = range(1, 11)\n",
        "for k in K:\n",
        "    kmeans = KMeans(n_clusters=k, random_state=42)\n",
        "    kmeans.fit(X_scaled)\n",
        "    inertia.append(kmeans.inertia_)"
      ],
      "metadata": {
        "id": "NEiiThqwME_B"
      },
      "execution_count": null,
      "outputs": []
    },
    {
      "cell_type": "code",
      "source": [
        "# Plotar o gráfico Elbow\n",
        "# O gráfico Elbow mostra a inércia (soma das distâncias dos pontos ao centróide) e nos ajuda a definir o número de clusters ideal\n",
        "plt.figure(figsize=(8, 6))\n",
        "plt.plot(K, inertia, 'bx-')\n",
        "plt.xlabel('Número de Clusters')\n",
        "plt.ylabel('Inércia')\n",
        "plt.title('Método Elbow para Seleção de Clusters')\n",
        "plt.show()"
      ],
      "metadata": {
        "colab": {
          "base_uri": "https://localhost:8080/",
          "height": 538
        },
        "id": "oTaOOEtJZXta",
        "outputId": "f08ecb55-0a31-4127-f529-919ba81ee897"
      },
      "execution_count": null,
      "outputs": [
        {
          "output_type": "display_data",
          "data": {
            "text/plain": [
              "<Figure size 800x600 with 1 Axes>"
            ],
            "image/png": "[encoded data removed]"
          },
          "metadata": {}
        }
      ]
    },
    {
      "cell_type": "code",
      "source": [
        "# Utilizar o Silhouette Score para escolher o número ideal de clusters\n",
        "# O Silhouette Score mede a coesão e separação dos clusters, ajudando a determinar a qualidade do agrupamento\n",
        "silhouette_scores = []\n",
        "for k in range(2, 11):\n",
        "    kmeans = KMeans(n_clusters=k, random_state=42)\n",
        "    labels = kmeans.fit_predict(X_scaled)\n",
        "    silhouette_scores.append(silhouette_score(X_scaled, labels))"
      ],
      "metadata": {
        "id": "KBjSXuPSZXlE"
      },
      "execution_count": null,
      "outputs": []
    },
    {
      "cell_type": "code",
      "source": [
        "# Plotar o Silhouette Score\n",
        "# Este gráfico mostra o Silhouette Score para diferentes números de clusters e auxilia na escolha do número de grupos\n",
        "plt.figure(figsize=(8, 6))\n",
        "plt.plot(range(2, 11), silhouette_scores, 'bo-')\n",
        "plt.xlabel('Número de Clusters')\n",
        "plt.ylabel('Silhouette Score')\n",
        "plt.title('Silhouette Score para diferentes números de Clusters')\n",
        "plt.show()"
      ],
      "metadata": {
        "colab": {
          "base_uri": "https://localhost:8080/",
          "height": 541
        },
        "id": "L0KwOOjrZdKn",
        "outputId": "2daa561e-b054-41c0-8660-ac4023cccb50"
      },
      "execution_count": null,
      "outputs": [
        {
          "output_type": "display_data",
          "data": {
            "text/plain": [
              "<Figure size 800x600 with 1 Axes>"
            ],
            "image/png": "[encoded data removed]"
          },
          "metadata": {}
        }
      ]
    },
    {
      "cell_type": "code",
      "source": [
        "# Definir o número de clusters com base nos métodos Elbow e Silhouette\n",
        "# Aqui definimos o número de clusters com base nos resultados dos métodos Elbow e Silhouette\n",
        "kmeans = KMeans(n_clusters=3, random_state=42)\n",
        "labels = kmeans.fit_predict(X_scaled)"
      ],
      "metadata": {
        "id": "Udznudc5ZdEt"
      },
      "execution_count": null,
      "outputs": []
    },
    {
      "cell_type": "code",
      "source": [
        "# Adicionar os clusters ao dataframe original\n",
        "# Atribuímos os rótulos dos clusters aos dados originais para futuras análises\n",
        "df['Cluster'] = labels"
      ],
      "metadata": {
        "id": "HWXMZhh3Zc-a"
      },
      "execution_count": null,
      "outputs": []
    },
    {
      "cell_type": "code",
      "source": [
        "# Analisar as médias dos grupos (clusters)\n",
        "# Agrupamos os vinhos por clusters e calculamos as médias das variáveis em cada grupo\n",
        "grouped = df.groupby('Cluster').mean()"
      ],
      "metadata": {
        "id": "QlAjpBr-ZiI7"
      },
      "execution_count": null,
      "outputs": []
    },
    {
      "cell_type": "code",
      "source": [
        "# Mostrar as características médias dos grupos\n",
        "# Exibimos as médias de algumas variáveis importantes (como teor alcoólico e acidez)\n",
        "print(grouped[['Alcohol', 'Malic_acid', ' Ash']])\n"
      ],
      "metadata": {
        "colab": {
          "base_uri": "https://localhost:8080/"
        },
        "id": "Qtw2ZV0iZiEE",
        "outputId": "2b6df3ec-54dc-4e20-c843-333838df7775"
      },
      "execution_count": null,
      "outputs": [
        {
          "output_type": "stream",
          "name": "stdout",
          "text": [
            "           Alcohol  Malic_acid       Ash\n",
            "Cluster                                 \n",
            "0        12.332200    1.860800  2.131400\n",
            "1        12.860286    2.970571  2.420714\n",
            "2        13.746207    1.980862  2.503793\n"
          ]
        }
      ]
    },
    {
      "cell_type": "code",
      "source": [
        "# Visualizar a distribuição dos clusters em termos de teor alcoólico\n",
        "# Criamos gráficos de histograma para ver como o teor alcoólico está distribuído entre os clusters\n",
        "plt.figure(figsize=(8, 6))\n",
        "for cluster in range(3):\n",
        "    plt.hist(df[df['Cluster'] == cluster]['Alcohol'], bins=10, alpha=0.5, label=f'Cluster {cluster}')\n",
        "plt.xlabel('Teor Alcoólico')\n",
        "plt.ylabel('Frequência')\n",
        "plt.title('Distribuição de Teor Alcoólico por Cluster')\n",
        "plt.legend()\n",
        "plt.show()"
      ],
      "metadata": {
        "colab": {
          "base_uri": "https://localhost:8080/",
          "height": 542
        },
        "id": "ZokixtYkZh7W",
        "outputId": "6895a85a-653d-4efd-c435-ab1efb3363bf"
      },
      "execution_count": null,
      "outputs": [
        {
          "output_type": "display_data",
          "data": {
            "text/plain": [
              "<Figure size 800x600 with 1 Axes>"
            ],
            "image/png": "[encoded data removed]"
          },
          "metadata": {}
        }
      ]
    },
    {
      "cell_type": "code",
      "source": [
        "# Visualizar a distribuição de acidez (Malicacid) por cluster\n",
        "# O mesmo procedimento é feito para a acidez (Malic Acid), comparando entre os clusters\n",
        "plt.figure(figsize=(8, 6))\n",
        "for cluster in range(3):\n",
        "    plt.hist(df[df['Cluster'] == cluster]['Malic_acid'], bins=10, alpha=0.5, label=f'Cluster {cluster}')\n",
        "plt.xlabel('Malic_acid (Acidez)')\n",
        "plt.ylabel('Frequência')\n",
        "plt.title('Distribuição de Acidez (Malic_acid) por Cluster')\n",
        "plt.legend()\n",
        "plt.show()"
      ],
      "metadata": {
        "colab": {
          "base_uri": "https://localhost:8080/",
          "height": 550
        },
        "id": "MdWXpQPgZpqQ",
        "outputId": "8b309503-fc74-45ad-c7c1-625f7d246081"
      },
      "execution_count": null,
      "outputs": [
        {
          "output_type": "display_data",
          "data": {
            "text/plain": [
              "<Figure size 800x600 with 1 Axes>"
            ],
            "image/png": "[encoded data removed]"
          },
          "metadata": {}
        }
      ]
    },
    {
      "cell_type": "code",
      "source": [
        "# Análise detalhada de cada grupo\n",
        "# Aqui fornecemos uma análise descritiva detalhada de cada cluster, comparando todas as variáveis\n",
        "for cluster in range(3):\n",
        "    print(f\"\\nCluster {cluster}:\")\n",
        "    print(df[df['Cluster'] == cluster].describe())"
      ],
      "metadata": {
        "colab": {
          "base_uri": "https://localhost:8080/"
        },
        "id": "t4s65pLeZpjo",
        "outputId": "ac530843-943b-448d-9eff-154611feca24"
      },
      "execution_count": null,
      "outputs": [
        {
          "output_type": "stream",
          "name": "stdout",
          "text": [
            "\n",
            "Cluster 0:\n",
            "           Class    Alcohol  Malic_acid        Ash   Alcalinity_of_ash  \\\n",
            "count  50.000000  50.000000   50.000000  50.000000           50.000000   \n",
            "mean    1.880000  12.332200    1.860800   2.131400           18.776000   \n",
            "std     0.328261   0.559611    1.032018   0.265538            2.886532   \n",
            "min     1.000000  11.030000    0.740000   1.360000           10.600000   \n",
            "25%     2.000000  12.000000    1.195000   1.957500           17.850000   \n",
            "50%     2.000000  12.335000    1.565000   2.140000           19.000000   \n",
            "75%     2.000000  12.652500    2.057500   2.297500           21.000000   \n",
            "max     2.000000  13.670000    5.800000   2.700000           24.500000   \n",
            "\n",
            "        Magnesium  Total_phenols  Flavanoids  Nonflavanoid_phenols  \\\n",
            "count   50.000000      50.000000   50.000000             50.000000   \n",
            "mean    92.440000       2.443200    2.289200              0.304600   \n",
            "std     12.945979       0.453478    0.580534              0.082467   \n",
            "min     70.000000       1.450000    0.570000              0.130000   \n",
            "25%     86.000000       2.200000    2.002500              0.260000   \n",
            "50%     88.000000       2.450000    2.255000              0.295000   \n",
            "75%     97.000000       2.702500    2.650000              0.370000   \n",
            "max    151.000000       3.520000    3.750000              0.520000   \n",
            "\n",
            "       Proanthocyanins  Color_intensity       Hue  \\\n",
            "count        50.000000        50.000000  50.00000   \n",
            "mean          1.744600         3.188000   1.05660   \n",
            "std           0.592426         1.078383   0.19583   \n",
            "min           0.420000         1.280000   0.69000   \n",
            "25%           1.372500         2.517500   0.93000   \n",
            "50%           1.620000         2.920000   1.05500   \n",
            "75%           2.005000         3.875000   1.18750   \n",
            "max           3.580000         7.200000   1.71000   \n",
            "\n",
            "       OD280/OD315_of_diluted_wines      Proline  Cluster  \n",
            "count                     50.000000    50.000000     50.0  \n",
            "mean                       2.959600   568.820000      0.0  \n",
            "std                        0.387219   240.399471      0.0  \n",
            "min                        1.820000   278.000000      0.0  \n",
            "25%                        2.772500   395.500000      0.0  \n",
            "50%                        3.010000   506.000000      0.0  \n",
            "75%                        3.187500   676.500000      0.0  \n",
            "max                        3.640000  1285.000000      0.0  \n",
            "\n",
            "Cluster 1:\n",
            "           Class    Alcohol  Malic_acid        Ash   Alcalinity_of_ash  \\\n",
            "count  70.000000  70.000000   70.000000  70.000000           70.000000   \n",
            "mean    2.671429  12.860286    2.970571   2.420714           21.304286   \n",
            "std     0.473085   0.636708    1.190207   0.200343            2.611870   \n",
            "min     2.000000  11.640000    0.940000   1.980000           16.000000   \n",
            "25%     2.000000  12.375000    1.940000   2.280000           19.625000   \n",
            "50%     3.000000  12.845000    2.975000   2.375000           21.250000   \n",
            "75%     3.000000  13.390000    3.852500   2.570000           22.725000   \n",
            "max     3.000000  14.160000    5.650000   2.920000           28.500000   \n",
            "\n",
            "        Magnesium  Total_phenols  Flavanoids  Nonflavanoid_phenols  \\\n",
            "count   70.000000      70.000000   70.000000             70.000000   \n",
            "mean    97.471429       1.702429    1.032714              0.454857   \n",
            "std     12.122229       0.323990    0.483406              0.122944   \n",
            "min     78.000000       0.980000    0.340000              0.140000   \n",
            "25%     88.000000       1.480000    0.615000              0.400000   \n",
            "50%     96.000000       1.680000    0.880000              0.470000   \n",
            "75%    104.750000       1.915000    1.382500              0.530000   \n",
            "max    134.000000       2.600000    2.240000              0.660000   \n",
            "\n",
            "       Proanthocyanins  Color_intensity        Hue  \\\n",
            "count        70.000000        70.000000  70.000000   \n",
            "mean          1.172286         5.912571   0.799657   \n",
            "std           0.370547         2.693427   0.219734   \n",
            "min           0.410000         2.080000   0.480000   \n",
            "25%           0.895000         3.450000   0.612500   \n",
            "50%           1.140000         5.475000   0.750000   \n",
            "75%           1.450000         8.132500   0.917500   \n",
            "max           2.290000        11.750000   1.450000   \n",
            "\n",
            "       OD280/OD315_of_diluted_wines     Proline  Cluster  \n",
            "count                     70.000000   70.000000     70.0  \n",
            "mean                       1.915000  596.814286      1.0  \n",
            "std                        0.483177  130.041832      0.0  \n",
            "min                        1.270000  315.000000      1.0  \n",
            "25%                        1.580000  500.000000      1.0  \n",
            "50%                        1.765000  595.000000      1.0  \n",
            "75%                        2.210000  680.000000      1.0  \n",
            "max                        3.300000  880.000000      1.0  \n",
            "\n",
            "Cluster 2:\n",
            "           Class    Alcohol  Malic_acid        Ash   Alcalinity_of_ash  \\\n",
            "count  58.000000  58.000000   58.000000  58.000000           58.000000   \n",
            "mean    1.103448  13.746207    1.980862   2.503793           17.931034   \n",
            "std     0.359808   0.552134    0.651210   0.230741            3.499835   \n",
            "min     1.000000  11.560000    1.350000   2.100000           11.400000   \n",
            "25%     1.000000  13.502500    1.662500   2.330000           16.000000   \n",
            "50%     1.000000  13.795000    1.765000   2.470000           17.150000   \n",
            "75%     1.000000  14.115000    1.942500   2.650000           19.075000   \n",
            "max     3.000000  14.830000    4.040000   3.230000           30.000000   \n",
            "\n",
            "        Magnesium  Total_phenols  Flavanoids  Nonflavanoid_phenols  \\\n",
            "count   58.000000      58.000000   58.000000             58.000000   \n",
            "mean   108.775862       2.882759    3.007931              0.298966   \n",
            "std     13.241406       0.332322    0.521643              0.080190   \n",
            "min     86.000000       2.200000    1.310000              0.170000   \n",
            "25%    101.000000       2.632500    2.690000              0.242500   \n",
            "50%    107.000000       2.855000    2.980000              0.290000   \n",
            "75%    116.000000       3.000000    3.247500              0.327500   \n",
            "max    162.000000       3.880000    5.080000              0.530000   \n",
            "\n",
            "       Proanthocyanins  Color_intensity        Hue  \\\n",
            "count        58.000000        58.000000  58.000000   \n",
            "mean          1.963621         5.638966   1.062414   \n",
            "std           0.414804         1.612395   0.142857   \n",
            "min           1.250000         2.600000   0.570000   \n",
            "25%           1.682500         4.725000   0.965000   \n",
            "50%           1.955000         5.515000   1.070000   \n",
            "75%           2.130000         6.237500   1.145000   \n",
            "max           3.280000        13.000000   1.360000   \n",
            "\n",
            "       OD280/OD315_of_diluted_wines      Proline  Cluster  \n",
            "count                     58.000000    58.000000     58.0  \n",
            "mean                       3.152586  1081.534483      2.0  \n",
            "std                        0.392252   261.459347      0.0  \n",
            "min                        1.960000   410.000000      2.0  \n",
            "25%                        2.870000   916.250000      2.0  \n",
            "50%                        3.170000  1072.500000      2.0  \n",
            "75%                        3.447500  1277.500000      2.0  \n",
            "max                        4.000000  1680.000000      2.0  \n"
          ]
        }
      ]
    },
    {
      "cell_type": "markdown",
      "source": [
        "#Conclusão\n",
        "Após a aplicação do algoritmo K-means no conjunto de dados dos vinhos, conseguimos identificar grupos com características similares. Com o uso dos métodos Elbow e Silhouette, definimos o número de clusters mais adequado, o que nos permitiu segmentar os vinhos de maneira eficaz. A análise mostrou que os vinhos dentro de cada cluster compartilham propriedades químicas, como teor alcoólico e acidez, fornecendo insights sobre as diferenças entre os grupos. Isso pode ser útil tanto para o mercado vinícola, quanto para estudos mais aprofundados sobre as características que tornam cada vinho único.\n",
        "\n",
        "O uso do K-means se mostrou uma abordagem eficiente para esse tipo de problema de agrupamento não supervisionado, fornecendo uma visão clara e separando os vinhos com base em suas propriedades químicas."
      ],
      "metadata": {
        "id": "fUZYQwLQZwXD"
      }
    }
  ]
}